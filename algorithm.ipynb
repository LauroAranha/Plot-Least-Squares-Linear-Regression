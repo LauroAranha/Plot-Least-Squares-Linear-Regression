{
  "cells": [
    {
      "attachments": {},
      "cell_type": "markdown",
      "metadata": {
        "id": "iFvnieuX79rN"
      },
      "source": [
        "*It is **required** **procedural execution** of each block of code in order to result in the correct results.*\n",
        "The first run will import the necessary libraries"
      ]
    },
    {
      "cell_type": "code",
      "execution_count": null,
      "metadata": {
        "id": "_u2-yd6m8CaN"
      },
      "outputs": [],
      "source": [
        "import pandas as pd\n",
        "import numpy as np\n",
        "import matplotlib.pyplot as plt"
      ]
    },
    {
      "attachments": {},
      "cell_type": "markdown",
      "metadata": {
        "id": "TvoKn1yn_Sfo"
      },
      "source": [
        "Loads the data from the .csv file"
      ]
    },
    {
      "cell_type": "code",
      "execution_count": 56,
      "metadata": {
        "id": "Ai8KiLND_Usj"
      },
      "outputs": [],
      "source": [
        "data = pd.read_csv('data.csv')"
      ]
    },
    {
      "attachments": {},
      "cell_type": "markdown",
      "metadata": {
        "id": "xpcIJatnBF0u"
      },
      "source": [
        "Converts the .csv columns to arrays"
      ]
    },
    {
      "cell_type": "code",
      "execution_count": 55,
      "metadata": {
        "id": "IuhIrugHBSra"
      },
      "outputs": [
        {
          "name": "stdout",
          "output_type": "stream",
          "text": [
            "0     38\n",
            "1     41\n",
            "2     42\n",
            "3     39\n",
            "4     40\n",
            "5     38\n",
            "6     37\n",
            "7     42\n",
            "8     40\n",
            "9     41\n",
            "10    39\n",
            "11    38\n",
            "12    42\n",
            "13    43\n",
            "14    38\n",
            "15    39\n",
            "16    41\n",
            "17    43\n",
            "18    39\n",
            "19    40\n",
            "20    37\n",
            "21    41\n",
            "22    39\n",
            "23    37\n",
            "24    42\n",
            "25    42\n",
            "26    40\n",
            "27    38\n",
            "28    40\n",
            "29    38\n",
            "30    39\n",
            "31    43\n",
            "32    37\n",
            "33    38\n",
            "34    40\n",
            "35    42\n",
            "36    43\n",
            "37    41\n",
            "Name: FootSize, dtype: int64\n"
          ]
        }
      ],
      "source": [
        "x = np.array(data['Height'])\n",
        "y = np.array(data['FootSize'])\n",
        "print(data['FootSize'])"
      ]
    },
    {
      "attachments": {},
      "cell_type": "markdown",
      "metadata": {
        "id": "7FpOiQBsLzbc"
      },
      "source": [
        "Calculando a regressão linear com o método dos mínimos quadrados\n",
        "Calculates the linear regression with the least squares method"
      ]
    },
    {
      "cell_type": "code",
      "execution_count": 57,
      "metadata": {
        "id": "sGbILaCVL4LB"
      },
      "outputs": [],
      "source": [
        "a, b = np.polyfit(x, y, 1)"
      ]
    },
    {
      "attachments": {},
      "cell_type": "markdown",
      "metadata": {
        "id": "7stgN1BIL94j"
      },
      "source": [
        "Calculating the correlation coefficient"
      ]
    },
    {
      "cell_type": "code",
      "execution_count": 58,
      "metadata": {
        "id": "qP0jB8f4L-S7"
      },
      "outputs": [],
      "source": [
        "r = np.corrcoef(x, y)[0, 1]"
      ]
    },
    {
      "attachments": {},
      "cell_type": "markdown",
      "metadata": {
        "id": "Ts0g_eayL-oU"
      },
      "source": [
        "Calculates the x and y values"
      ]
    },
    {
      "cell_type": "code",
      "execution_count": 59,
      "metadata": {
        "id": "7CRdsBljL-tk"
      },
      "outputs": [],
      "source": [
        "y_pred = a * x + b"
      ]
    },
    {
      "attachments": {},
      "cell_type": "markdown",
      "metadata": {
        "id": "f5USrbEDL-yh"
      },
      "source": [
        "Plots the data and linear regression line along with the texts to indicate the correlation coefficient and regression line."
      ]
    },
    {
      "cell_type": "code",
      "execution_count": 60,
      "metadata": {
        "colab": {
          "base_uri": "https://localhost:8080/",
          "height": 516
        },
        "id": "a8-1dFodL-2D",
        "outputId": "d8da0266-3bc4-49a4-9d77-3d2cb733eaa9"
      },
      "outputs": [
        {
          "name": "stdout",
          "output_type": "stream",
          "text": [
            "Correlation Coefficient = 0.96\n",
            "Regression Line: y = 0.49x + (-44.51)\n"
          ]
        },
        {
          "data": {
            "image/png": "[encoded data removed]",
            "text/plain": [
              "<Figure size 640x480 with 1 Axes>"
            ]
          },
          "metadata": {},
          "output_type": "display_data"
        }
      ],
      "source": [
        "print(f'Correlation Coefficient = {r:.2f}')\n",
        "print(f'Regression Line: y = {a:.2f}x + ({b:.2f})')\n",
        "\n",
        "plt.scatter(x, y)\n",
        "plt.plot(x, y_pred, color='red')\n",
        "\n",
        "plt.text(0.5, 1.1, f'Correlation Coefficient = {r:.2f}', \n",
        "         horizontalalignment='right', verticalalignment='bottom', \n",
        "         transform=plt.gca().transAxes)\n",
        "plt.text(0.603, 1.05, f'Regression Line: y = {a:.2f}x + ({b:.2f})', \n",
        "         horizontalalignment='right', verticalalignment='baseline', \n",
        "         transform=plt.gca().transAxes)\n",
        "\n",
        "plt.grid()\n",
        "plt.show()"
      ]
    }
  ],
  "metadata": {
    "colab": {
      "provenance": []
    },
    "kernelspec": {
      "display_name": "Python 3",
      "name": "python3"
    },
    "language_info": {
      "codemirror_mode": {
        "name": "ipython",
        "version": 3
      },
      "file_extension": ".py",
      "mimetype": "text/x-python",
      "name": "python",
      "nbconvert_exporter": "python",
      "pygments_lexer": "ipython3",
      "version": "3.11.0"
    }
  },
  "nbformat": 4,
  "nbformat_minor": 0
}
